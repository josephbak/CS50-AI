{
 "cells": [
  {
   "cell_type": "code",
   "execution_count": 134,
   "metadata": {},
   "outputs": [
    {
     "name": "stdout",
     "output_type": "stream",
     "text": [
      "[['o', None, 'o'], [None, 'o', 'o'], [None, 'x', 'o']]\n"
     ]
    }
   ],
   "source": [
    "board = [['o', None, 'o'], [None, 'o', 'o'], [None, 'x', 'o']]\n",
    "\n",
    "print(board)"
   ]
  },
  {
   "cell_type": "code",
   "execution_count": 116,
   "metadata": {},
   "outputs": [
    {
     "name": "stdout",
     "output_type": "stream",
     "text": [
      "[None, 'o', 'x']\n",
      "[None, 'o', 'x']\n",
      "['o', 'o', 'o']\n"
     ]
    }
   ],
   "source": [
    "# [i[0] for i in a] #This is accessing a column of a double list\n",
    "\n",
    "for j in range(3):\n",
    "    print([i[j] for i in board])"
   ]
  },
  {
   "cell_type": "code",
   "execution_count": 117,
   "metadata": {},
   "outputs": [
    {
     "name": "stdout",
     "output_type": "stream",
     "text": [
      "False\n",
      "True\n",
      "False\n"
     ]
    }
   ],
   "source": [
    "for i in range(len(board)):\n",
    "    if all(element == board[i][0] for element in board[i]) and board[i][0] is not None:\n",
    "        print(True)\n",
    "    else:\n",
    "        print(False)"
   ]
  },
  {
   "cell_type": "code",
   "execution_count": 118,
   "metadata": {
    "jupyter": {
     "source_hidden": true
    }
   },
   "outputs": [
    {
     "name": "stdout",
     "output_type": "stream",
     "text": [
      "False\n"
     ]
    }
   ],
   "source": [
    "result = all(element == board[0][0] for element in board[0]) and board[0][0] in ['y', 'o']\n",
    "print(result)"
   ]
  },
  {
   "cell_type": "code",
   "execution_count": 121,
   "metadata": {},
   "outputs": [
    {
     "name": "stdout",
     "output_type": "stream",
     "text": [
      "False\n",
      "True\n",
      "False\n"
     ]
    }
   ],
   "source": [
    "for i in range(len(board[0])):\n",
    "    if all(element == board[i][0] for element in board[i]) and board[i][0] is not None:\n",
    "        print(True)\n",
    "    else:\n",
    "        print(False)"
   ]
  },
  {
   "cell_type": "code",
   "execution_count": 120,
   "metadata": {
    "collapsed": true,
    "jupyter": {
     "outputs_hidden": true,
     "source_hidden": true
    }
   },
   "outputs": [
    {
     "ename": "IndexError",
     "evalue": "list index out of range",
     "output_type": "error",
     "traceback": [
      "\u001b[0;31m---------------------------------------------------------------------------\u001b[0m",
      "\u001b[0;31mIndexError\u001b[0m                                Traceback (most recent call last)",
      "\u001b[0;32m<ipython-input-120-83bfab48e779>\u001b[0m in \u001b[0;36m<module>\u001b[0;34m\u001b[0m\n\u001b[1;32m     11\u001b[0m                     \u001b[0mdiag_counter1\u001b[0m \u001b[0;34m+=\u001b[0m \u001b[0;36m1\u001b[0m\u001b[0;34m\u001b[0m\u001b[0;34m\u001b[0m\u001b[0m\n\u001b[1;32m     12\u001b[0m                 \u001b[0mk\u001b[0m \u001b[0;34m=\u001b[0m \u001b[0mlen\u001b[0m\u001b[0;34m(\u001b[0m\u001b[0mboard\u001b[0m\u001b[0;34m[\u001b[0m\u001b[0;36m0\u001b[0m\u001b[0;34m]\u001b[0m\u001b[0;34m)\u001b[0m\u001b[0;34m-\u001b[0m\u001b[0;36m1\u001b[0m\u001b[0;34m-\u001b[0m\u001b[0mj\u001b[0m\u001b[0;34m\u001b[0m\u001b[0;34m\u001b[0m\u001b[0m\n\u001b[0;32m---> 13\u001b[0;31m                 \u001b[0;32mif\u001b[0m \u001b[0mi\u001b[0m \u001b[0;34m+\u001b[0m \u001b[0mk\u001b[0m \u001b[0;34m==\u001b[0m \u001b[0mlen\u001b[0m\u001b[0;34m(\u001b[0m\u001b[0mboard\u001b[0m\u001b[0;34m[\u001b[0m\u001b[0;36m0\u001b[0m\u001b[0;34m]\u001b[0m\u001b[0;34m)\u001b[0m\u001b[0;34m-\u001b[0m\u001b[0;36m1\u001b[0m \u001b[0;32mand\u001b[0m \u001b[0;34m(\u001b[0m\u001b[0mboard\u001b[0m\u001b[0;34m[\u001b[0m\u001b[0mi\u001b[0m\u001b[0;34m]\u001b[0m\u001b[0;34m[\u001b[0m\u001b[0mk\u001b[0m\u001b[0;34m]\u001b[0m \u001b[0;34m==\u001b[0m \u001b[0mboard\u001b[0m\u001b[0;34m(\u001b[0m\u001b[0;34m[\u001b[0m\u001b[0mi\u001b[0m\u001b[0;34m+\u001b[0m\u001b[0;36m1\u001b[0m\u001b[0;34m]\u001b[0m\u001b[0;34m[\u001b[0m\u001b[0mk\u001b[0m\u001b[0;34m-\u001b[0m\u001b[0;36m1\u001b[0m\u001b[0;34m]\u001b[0m\u001b[0;34m)\u001b[0m\u001b[0;34m)\u001b[0m\u001b[0;34m:\u001b[0m\u001b[0;34m\u001b[0m\u001b[0;34m\u001b[0m\u001b[0m\n\u001b[0m\u001b[1;32m     14\u001b[0m                     \u001b[0mdiag_counter2\u001b[0m \u001b[0;34m+=\u001b[0m \u001b[0;36m2\u001b[0m\u001b[0;34m\u001b[0m\u001b[0;34m\u001b[0m\u001b[0m\n\u001b[1;32m     15\u001b[0m \u001b[0;34m\u001b[0m\u001b[0m\n",
      "\u001b[0;31mIndexError\u001b[0m: list index out of range"
     ]
    }
   ],
   "source": [
    "diag_checker1 = True\n",
    "diag_counter1 = 0\n",
    "diag_counter2 = 0\n",
    "for i in range(len(board)):\n",
    "    col_checker = True\n",
    "    for j in range(len(board)):\n",
    "        if j != len(board[0])-1:\n",
    "            col_checker = col_checker and (board[j][i] == board[j+1][i])\n",
    "            if i != len(board)-1:\n",
    "                if i == j and (board[i][j] == board[i+1][j+1]):\n",
    "                    diag_counter1 += 1\n",
    "                k = len(board[0])-1-j\n",
    "                if i + k == len(board[0])-1 and (board[i][k] == board([i+1][k-1])):\n",
    "                    diag_counter2 += 2\n",
    "            \n",
    "    if col_checker:\n",
    "        print(f\"column {i}: {board[0][i]}\")\n",
    "print(diag_counter1)\n",
    "\n",
    "# print(diag_checker1)\n",
    "# if diag_checker1:\n",
    "#     print(f\"diagonal 1: {board[0][0]}\")"
   ]
  },
  {
   "cell_type": "code",
   "execution_count": 125,
   "metadata": {},
   "outputs": [
    {
     "name": "stdout",
     "output_type": "stream",
     "text": [
      "False\n",
      "[None, None, None]\n",
      "False\n",
      "[None, 'o', 'x']\n",
      "True\n",
      "['o', 'o', 'o']\n"
     ]
    }
   ],
   "source": [
    "for i in range(len(board)):\n",
    "    if all(element == board[0][i] for element in [col[i] for col in board]) and board[0][i] is not None:\n",
    "        print(True)\n",
    "        print([col[i] for col in board])\n",
    "    else:\n",
    "        print(False)\n",
    "        print([col[i] for col in board])"
   ]
  },
  {
   "cell_type": "code",
   "execution_count": 135,
   "metadata": {},
   "outputs": [
    {
     "name": "stdout",
     "output_type": "stream",
     "text": [
      "True\n",
      "['o', 'o', 'o']\n",
      "['o', 'o', None]\n"
     ]
    }
   ],
   "source": [
    "if all(element == board[0][0] for element in [board[i][i] for i in range(len(board))]) and board[0][0] is not None:\n",
    "    print(True)\n",
    "else:\n",
    "    print(False)\n",
    "    \n",
    "print([board[i][i] for i in range(len(board))])\n",
    "print([board[i][len(board)-1-i] for i in range(len(board))])"
   ]
  },
  {
   "cell_type": "code",
   "execution_count": 86,
   "metadata": {},
   "outputs": [
    {
     "data": {
      "text/plain": [
       "<function dict.get(key, default=None, /)>"
      ]
     },
     "execution_count": 86,
     "metadata": {},
     "output_type": "execute_result"
    }
   ],
   "source": [
    "a_dictionary.get"
   ]
  },
  {
   "cell_type": "code",
   "execution_count": null,
   "metadata": {},
   "outputs": [],
   "source": [
    "def winner(board):\n",
    "    \"\"\"\n",
    "    Returns the winner of the game, if there is one.\n",
    "    \"\"\"\n",
    "    winner_sym = None\n",
    "    row_counter = 0\n",
    "    col_counter = 0\n",
    "    primary_diag_counter = 0\n",
    "    secondary_diag_counter = 0\n",
    "    \n",
    "    # primary diagonal check\n",
    "    if all(element == board[0][0] for element in [board[i][i] for i in range(len(board))]) and board[0][0] is not None:\n",
    "        primary_diag_counter = 1\n",
    "        winner_sym = board[0][0]\n",
    "        \n",
    "    # seceondary diagonal check\n",
    "    if all(element == board[0][len(board)-1] for element in [board[i][len(board)-1-i] for i in range(len(board))]) and board[0][len(board)-1] is not None:\n",
    "        secondary_diag_counter = 1\n",
    "        winner_sym = board[0][len(board)-1]\n",
    "    \n",
    "    for i in range(len(board)):\n",
    "        #row checking\n",
    "        if all(element == board[i][0] for element in board[i]) and board[i][0] is not None:\n",
    "            row_counter = 1\n",
    "            winner_sym = board[i][0]\n",
    "            break\n",
    "        #col checking\n",
    "        if all(element == board[0][i] for element in [col[i] for col in board]) and board[0][i] is not None:\n",
    "            col_counter = 1\n",
    "            winner_sym = board[0][i]\n",
    "            break\n",
    "    return None # Not finished"
   ]
  },
  {
   "cell_type": "code",
   "execution_count": 136,
   "metadata": {},
   "outputs": [
    {
     "name": "stdout",
     "output_type": "stream",
     "text": [
      "False\n"
     ]
    }
   ],
   "source": [
    "print(not True)"
   ]
  },
  {
   "cell_type": "code",
   "execution_count": null,
   "metadata": {},
   "outputs": [],
   "source": []
  }
 ],
 "metadata": {
  "kernelspec": {
   "display_name": "Python 3",
   "language": "python",
   "name": "python3"
  },
  "language_info": {
   "codemirror_mode": {
    "name": "ipython",
    "version": 3
   },
   "file_extension": ".py",
   "mimetype": "text/x-python",
   "name": "python",
   "nbconvert_exporter": "python",
   "pygments_lexer": "ipython3",
   "version": "3.8.2"
  }
 },
 "nbformat": 4,
 "nbformat_minor": 4
}
